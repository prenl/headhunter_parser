{
 "cells": [],
 "metadata": {
  "kernelspec": {
   "display_name": "Python 3",
   "language": "python",
   "name": "python3"
  },
  "language_info": {
   "name": "python",
   "version": "3.11.0"
  },
  "orig_nbformat": 4,
  "vscode": {
   "interpreter": {
    "hash": "79b067b2fa0e4ffe3d6912ca6a85a25e3eecaa9380cfa121a9114d7885261d91"
   }
  }
 },
 "nbformat": 4,
 "nbformat_minor": 2
}
