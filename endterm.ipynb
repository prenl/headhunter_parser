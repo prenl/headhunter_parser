{
 "cells": [
  {
   "attachments": {},
   "cell_type": "markdown",
   "metadata": {},
   "source": [
    "Hello everyone!\\\n",
    "This is our notebook for our parser\n",
    "This project was done by ```Abdrakhmanov Yelnur```, ```Ananyan Karen``` and ```Aslan Jeleubay``` from ```SE-2203```\\\n",
    "GitHub Repository link: https://github.com/prenl/headhunter_parser/\n",
    "\n",
    "In the code cell below, we import all necessary packages using ```pip``` (python package index)"
   ]
  },
  {
   "cell_type": "code",
   "execution_count": null,
   "metadata": {},
   "outputs": [],
   "source": [
    "# Installing all necessary packages\n",
    "!pip3 install jupyter\n",
    "!pip3 install pandas\n",
    "!pip3 install csv\n",
    "!pip3 install jupyter\n",
    "!pip3 install requests\n",
    "!pip3 install bs4"
   ]
  },
  {
   "attachments": {},
   "cell_type": "markdown",
   "metadata": {},
   "source": [
    "Then, we start our program from inputing some our functions and libraries"
   ]
  },
  {
   "cell_type": "code",
   "execution_count": 1,
   "metadata": {},
   "outputs": [],
   "source": [
    "import csv\n",
    "import pandas\n",
    "import requests\n",
    "from bs4 import BeautifulSoup\n",
    "\n",
    "from hh_parser import find_links, parse_link\n",
    "from data_handler import parse_resumes\n",
    "from scripts import *"
   ]
  },
  {
   "attachments": {},
   "cell_type": "markdown",
   "metadata": {},
   "source": [
    "We have ```parse_resumes``` function below, that takes only one argument -> ```job_title``` \\\n",
    "Using this text, our ```find_links``` function finds the ```20``` first links that satisfy the ```job_title```\n",
    "\n",
    "Then, all the links ```find_links``` function had found we parse through our function ```parse_link```\n",
    "\n",
    "Using ```requests``` and ```bs4``` libraries, we parse each link returning dictionary of page\n",
    "\n",
    "    resume = {\n",
    "        'title': title,\n",
    "        'specialization': specialization,\n",
    "        'salary': salary,\n",
    "        'age': age,\n",
    "        'employment': employment,\n",
    "        'schedule': schedule,\n",
    "        'experience_years': experience_years,\n",
    "        'experience_months': experience_months,\n",
    "        'citizenship': citizenship,\n",
    "        'sex': sex,\n",
    "        'link': link\n",
    "    }\n",
    "\n",
    "If some information wasn't found in resume, it shows \"Unspecified\"\n",
    "\n",
    "As soon as ``parse_link`` finishes with one link, ```parse_resumes``` immediately fills the table ``.csv`` that has the same name as ```job_title```\n",
    "    \n"
   ]
  },
  {
   "cell_type": "code",
   "execution_count": 2,
   "metadata": {},
   "outputs": [],
   "source": [
    "job_title = 'DevOps C'\n",
    "number_of_resumes = 20\n",
    "# parse_resumes(job_title, number_of_resumes)"
   ]
  },
  {
   "attachments": {},
   "cell_type": "markdown",
   "metadata": {},
   "source": [
    "To output out table, firstly, we should open our ```.csv``` file and convert it to ```DataFrame``` object, using ```read_csv``` method from ```pandas```\\\n",
    "\n",
    "and after this, we output the table using ```head``` method of ```pandas.DataFrame class```"
   ]
  },
  {
   "cell_type": "code",
   "execution_count": null,
   "metadata": {},
   "outputs": [],
   "source": [
    "dataframe: pandas.DataFrame = pandas.read_csv(job_title + '.csv')\n",
    "dataframe.head(n=number_of_resumes)"
   ]
  },
  {
   "attachments": {},
   "cell_type": "markdown",
   "metadata": {},
   "source": [
    "```ENTERING TESTING ZONE ONE```"
   ]
  },
  {
   "attachments": {},
   "cell_type": "markdown",
   "metadata": {},
   "source": [
    "First test will be test of ```sorting script```\\\n",
    "\n",
    "here's the function to ```sort by age``` (ascending):"
   ]
  },
  {
   "cell_type": "code",
   "execution_count": null,
   "metadata": {},
   "outputs": [],
   "source": [
    "sorted_by_age_dataframe = sort(dataframe, 'age', ascending=False)\n",
    "sorted_by_age_dataframe.head(n=number_of_resumes)"
   ]
  },
  {
   "attachments": {},
   "cell_type": "markdown",
   "metadata": {},
   "source": [
    "function to ```sort by salary``` (ascending)"
   ]
  },
  {
   "cell_type": "code",
   "execution_count": null,
   "metadata": {},
   "outputs": [],
   "source": [
    "sorted_by_salary_dataframe = sort(dataframe, 'salary', ascending=True)\n",
    "sorted_by_salary_dataframe.head(n=number_of_resumes)"
   ]
  },
  {
   "attachments": {},
   "cell_type": "markdown",
   "metadata": {},
   "source": [
    "function to ```sort by experience``` (descending)"
   ]
  },
  {
   "cell_type": "code",
   "execution_count": null,
   "metadata": {},
   "outputs": [],
   "source": [
    "sorted_by_experience_dataframe = sort(dataframe, 'experience_years', ascending=False)\n",
    "sorted_by_experience_dataframe.head(n=number_of_resumes)"
   ]
  },
  {
   "attachments": {},
   "cell_type": "markdown",
   "metadata": {},
   "source": [
    "function to ```sort by title``` (ascending)"
   ]
  },
  {
   "cell_type": "code",
   "execution_count": null,
   "metadata": {},
   "outputs": [],
   "source": [
    "sorted_by_experience_dataframe = sort(dataframe, 'title', ascending=True)\n",
    "sorted_by_experience_dataframe.head(n=number_of_resumes)"
   ]
  },
  {
   "attachments": {},
   "cell_type": "markdown",
   "metadata": {},
   "source": [
    "```ENTERING TESTING ZONE TWO```"
   ]
  },
  {
   "attachments": {},
   "cell_type": "markdown",
   "metadata": {},
   "source": [
    "function to ```calculate the minimum salary```:"
   ]
  },
  {
   "cell_type": "code",
   "execution_count": null,
   "metadata": {},
   "outputs": [],
   "source": [
    "minimum_salary_dataframe = get_min(dataframe, 'salary')\n",
    "print(minimum_salary_dataframe)"
   ]
  },
  {
   "attachments": {},
   "cell_type": "markdown",
   "metadata": {},
   "source": [
    "function to ```calculate the maximum salary```:"
   ]
  },
  {
   "cell_type": "code",
   "execution_count": null,
   "metadata": {},
   "outputs": [],
   "source": [
    "maximum_salary_dataframe = get_max(dataframe, 'salary')\n",
    "print(maximum_salary_dataframe)"
   ]
  },
  {
   "attachments": {},
   "cell_type": "markdown",
   "metadata": {},
   "source": [
    "function to ```calculate the average salary```:"
   ]
  },
  {
   "cell_type": "code",
   "execution_count": 6,
   "metadata": {},
   "outputs": [
    {
     "name": "stdout",
     "output_type": "stream",
     "text": [
      "Average salary for \"DevOps C\" is: 1023913 KZT\n"
     ]
    }
   ],
   "source": [
    "average_salary = get_average(dataframe, 'salary')\n",
    "print(\"Average salary for \\\"\" + job_title + \"\\\" is: \" + str(int(average_salary)) + \" KZT\")"
   ]
  },
  {
   "attachments": {},
   "cell_type": "markdown",
   "metadata": {},
   "source": [
    "```ENTERING TESTING ZONE THREE```"
   ]
  },
  {
   "attachments": {},
   "cell_type": "markdown",
   "metadata": {},
   "source": [
    "function to ```calculate the minimum for each sex, specialization and citizenship```:"
   ]
  },
  {
   "cell_type": "code",
   "execution_count": null,
   "metadata": {},
   "outputs": [],
   "source": [
    "columns = ['sex', 'specialization', 'citizenship']\n",
    "for column in columns:\n",
    "    pass\n",
    "# Karen this func is for you"
   ]
  },
  {
   "attachments": {},
   "cell_type": "markdown",
   "metadata": {},
   "source": [
    "function to ```calculate the maximum for each sex, specialization and citizenship```:"
   ]
  },
  {
   "cell_type": "code",
   "execution_count": null,
   "metadata": {},
   "outputs": [],
   "source": [
    "columns = ['sex', 'specialization', 'citizenship']\n",
    "for column in columns:\n",
    "    pass\n",
    "# Karen this func is for you"
   ]
  },
  {
   "attachments": {},
   "cell_type": "markdown",
   "metadata": {},
   "source": [
    "function to ```calculate the average for each sex, specialization and citizenship```:"
   ]
  },
  {
   "cell_type": "code",
   "execution_count": null,
   "metadata": {},
   "outputs": [],
   "source": [
    "columns = ['sex', 'specialization', 'citizenship']\n",
    "for column in columns:\n",
    "    pass\n",
    "# Karen this func is for you"
   ]
  },
  {
   "attachments": {},
   "cell_type": "markdown",
   "metadata": {},
   "source": [
    "```ENTERING TESTING ZONE FOUR```"
   ]
  },
  {
   "attachments": {},
   "cell_type": "markdown",
   "metadata": {},
   "source": [
    "function to ```calculate the amount of males``` from each country"
   ]
  },
  {
   "cell_type": "code",
   "execution_count": null,
   "metadata": {},
   "outputs": [],
   "source": [
    "# CODE"
   ]
  },
  {
   "attachments": {},
   "cell_type": "markdown",
   "metadata": {},
   "source": [
    "function to ```calculate the amount of females``` from each country"
   ]
  },
  {
   "cell_type": "code",
   "execution_count": null,
   "metadata": {},
   "outputs": [],
   "source": [
    "# CODE"
   ]
  },
  {
   "attachments": {},
   "cell_type": "markdown",
   "metadata": {},
   "source": [
    "function to ```calculate the amount of CVs``` from each country"
   ]
  },
  {
   "cell_type": "code",
   "execution_count": null,
   "metadata": {},
   "outputs": [],
   "source": [
    "# CODE"
   ]
  },
  {
   "attachments": {},
   "cell_type": "markdown",
   "metadata": {},
   "source": [
    "```ENTERING TESTING ZONE FIVE```"
   ]
  },
  {
   "cell_type": "code",
   "execution_count": null,
   "metadata": {},
   "outputs": [],
   "source": [
    "# Create at least 5 plots of dataframes from the previous steps. \n",
    "# For example, you can plot the bar chart of the average mean of expected salary each country’s citizenship or of each sex"
   ]
  }
 ],
 "metadata": {
  "kernelspec": {
   "display_name": "Python 3",
   "language": "python",
   "name": "python3"
  },
  "language_info": {
   "codemirror_mode": {
    "name": "ipython",
    "version": 3
   },
   "file_extension": ".py",
   "mimetype": "text/x-python",
   "name": "python",
   "nbconvert_exporter": "python",
   "pygments_lexer": "ipython3",
   "version": "3.11.0"
  },
  "orig_nbformat": 4,
  "vscode": {
   "interpreter": {
    "hash": "79b067b2fa0e4ffe3d6912ca6a85a25e3eecaa9380cfa121a9114d7885261d91"
   }
  }
 },
 "nbformat": 4,
 "nbformat_minor": 2
}
