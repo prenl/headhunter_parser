{
 "cells": [
  {
   "attachments": {},
   "cell_type": "markdown",
   "metadata": {},
   "source": [
    "Hello everyone!\\\n",
    "This is our notebook for our parser\n",
    "This project was done by ```Abdrakhmanov Yelnur```, ```Ananyan Karen``` and ```Aslan Jeleubay``` from ```SE-2203```\\\n",
    "GitHub Repository link: https://github.com/prenl/headhunter_parser/\n",
    "\n",
    "In the code cell below, we import all necessary packages using ```pip``` (python package index)"
   ]
  },
  {
   "cell_type": "code",
   "execution_count": null,
   "metadata": {},
   "outputs": [],
   "source": [
    "# Installing all necessary packages\n",
    "!pip3 install jupyter\n",
    "!pip3 install pandas\n",
    "!pip3 install csv\n",
    "!pip3 install jupyter\n",
    "!pip3 install requests\n",
    "!pip3 install bs4"
   ]
  },
  {
   "attachments": {},
   "cell_type": "markdown",
   "metadata": {},
   "source": [
    "Then, we start our program from inputing some our functions and libraries"
   ]
  },
  {
   "cell_type": "code",
   "execution_count": 1,
   "metadata": {},
   "outputs": [],
   "source": [
    "import csv\n",
    "import pandas\n",
    "import requests\n",
    "from bs4 import BeautifulSoup\n",
    "\n",
    "from hh_parser import find_links, parse_link\n",
    "from data_handler import parse_resumes\n",
    "from scripts import *"
   ]
  },
  {
   "attachments": {},
   "cell_type": "markdown",
   "metadata": {},
   "source": [
    "We have ```parse_resumes``` function below, that takes only one argument -> ```job_title``` \\\n",
    "Using this text, our ```find_links``` function finds the ```20``` first links that satisfy the ```job_title```\n",
    "\n",
    "Then, all the links ```find_links``` function had found we parse through our function ```parse_link```\n",
    "\n",
    "Using ```requests``` and ```bs4``` libraries, we parse each link returning dictionary of page\n",
    "\n",
    "    resume = {\n",
    "        'title': title,\n",
    "        'specialization': specialization,\n",
    "        'salary': salary,\n",
    "        'age': age,\n",
    "        'employment': employment,\n",
    "        'schedule': schedule,\n",
    "        'experience_years': experience_years,\n",
    "        'experience_months': experience_months,\n",
    "        'citizenship': citizenship,\n",
    "        'sex': sex,\n",
    "        'link': link\n",
    "    }\n",
    "\n",
    "If some information wasn't found in resume, it shows \"Unspecified\"\n",
    "\n",
    "As soon as ``parse_link`` finishes with one link, ```parse_resumes``` immediately fills the table ``.csv`` that has the same name as ```job_title```\n",
    "    \n"
   ]
  },
  {
   "cell_type": "code",
   "execution_count": 2,
   "metadata": {},
   "outputs": [],
   "source": [
    "job_title = 'DevOps C'\n",
    "number_of_resumes = 20\n",
    "# parse_resumes(job_title, number_of_resumes)"
   ]
  },
  {
   "attachments": {},
   "cell_type": "markdown",
   "metadata": {},
   "source": [
    "To output out table, firstly, we should open our ```.csv``` file and convert it to ```DataFrame``` object, using ```read_csv``` method from ```pandas```\\\n",
    "\n",
    "and after this, we output the table using ```head``` method of ```pandas.DataFrame class```"
   ]
  },
  {
   "cell_type": "code",
   "execution_count": null,
   "metadata": {},
   "outputs": [],
   "source": [
    "dataframe: pandas.DataFrame = pandas.read_csv(job_title + '.csv')\n",
    "dataframe.head(n=number_of_resumes)"
   ]
  },
  {
   "attachments": {},
   "cell_type": "markdown",
   "metadata": {},
   "source": [
    "```ENTERING TESTING ZONE ONE```"
   ]
  },
  {
   "attachments": {},
   "cell_type": "markdown",
   "metadata": {},
   "source": [
    "First test will be test of ```sorting script```\\\n",
    "\n",
    "here's the function to ```sort by age``` (ascending):"
   ]
  },
  {
   "cell_type": "code",
   "execution_count": null,
   "metadata": {},
   "outputs": [],
   "source": [
    "sorted_by_age_dataframe = sort(dataframe, 'age', ascending=False)\n",
    "sorted_by_age_dataframe.head(n=number_of_resumes)"
   ]
  },
  {
   "attachments": {},
   "cell_type": "markdown",
   "metadata": {},
   "source": [
    "function to ```sort by salary``` (ascending)"
   ]
  },
  {
   "cell_type": "code",
   "execution_count": null,
   "metadata": {},
   "outputs": [],
   "source": [
    "sorted_by_salary_dataframe = sort(dataframe, 'salary', ascending=True)\n",
    "sorted_by_salary_dataframe.head(n=number_of_resumes)"
   ]
  },
  {
   "attachments": {},
   "cell_type": "markdown",
   "metadata": {},
   "source": [
    "function to ```sort by experience``` (descending)"
   ]
  },
  {
   "cell_type": "code",
   "execution_count": null,
   "metadata": {},
   "outputs": [],
   "source": [
    "sorted_by_experience_dataframe = sort(dataframe, 'experience_years', ascending=False)\n",
    "sorted_by_experience_dataframe.head(n=number_of_resumes)"
   ]
  },
  {
   "attachments": {},
   "cell_type": "markdown",
   "metadata": {},
   "source": [
    "function to ```sort by title``` (ascending)"
   ]
  },
  {
   "cell_type": "code",
   "execution_count": null,
   "metadata": {},
   "outputs": [],
   "source": [
    "sorted_by_experience_dataframe = sort(dataframe, 'title', ascending=True)\n",
    "sorted_by_experience_dataframe.head(n=number_of_resumes)"
   ]
  },
  {
   "attachments": {},
   "cell_type": "markdown",
   "metadata": {},
   "source": [
    "```ENTERING TESTING ZONE TWO```"
   ]
  },
  {
   "attachments": {},
   "cell_type": "markdown",
   "metadata": {},
   "source": [
    "function to ```calculate the minimum salary```:"
   ]
  },
  {
   "cell_type": "code",
   "execution_count": null,
   "metadata": {},
   "outputs": [],
   "source": [
    "minimum_salary_dataframe = get_min(dataframe, 'salary')\n",
    "print(minimum_salary_dataframe)"
   ]
  },
  {
   "attachments": {},
   "cell_type": "markdown",
   "metadata": {},
   "source": [
    "function to ```calculate the maximum salary```:"
   ]
  },
  {
   "cell_type": "code",
   "execution_count": null,
   "metadata": {},
   "outputs": [],
   "source": [
    "maximum_salary_dataframe = get_max(dataframe, 'salary')\n",
    "print(maximum_salary_dataframe)"
   ]
  },
  {
   "attachments": {},
   "cell_type": "markdown",
   "metadata": {},
   "source": [
    "function to ```calculate the average salary```:"
   ]
  },
  {
   "cell_type": "code",
   "execution_count": null,
   "metadata": {},
   "outputs": [],
   "source": [
    "average_salary: str = get_average(dataframe, 'salary')\n",
    "print(\"Average salary for \\\"\" + job_title + \"\\\" is: \" + average_salary)"
   ]
  },
  {
   "attachments": {},
   "cell_type": "markdown",
   "metadata": {},
   "source": [
    "```ENTERING TESTING ZONE THREE```"
   ]
  },
  {
   "attachments": {},
   "cell_type": "markdown",
   "metadata": {},
   "source": [
    "function to ```calculate the minimum, maximum, average salary for each sex```:\\\n",
    "and function to ```calculate the minimum, maximum, average age for each sex```:"
   ]
  },
  {
   "cell_type": "code",
   "execution_count": 12,
   "metadata": {},
   "outputs": [
    {
     "name": "stdout",
     "output_type": "stream",
     "text": [
      "            min        max       average\n",
      "sex                                     \n",
      "False  100000.0  2800000.0  1.084240e+06\n",
      "True   300000.0   300000.0  3.000000e+05\n",
      "\n",
      "       min  max  average\n",
      "sex                     \n",
      "False   24   47    36.00\n",
      "True    32   37    33.75\n"
     ]
    }
   ],
   "source": [
    "grouped_by_sex = dataframe.groupby(['sex'])\n",
    "print(get_salary_stats(grouped_by_sex))\n",
    "print()\n",
    "print(get_age_stats(grouped_by_sex))"
   ]
  },
  {
   "attachments": {},
   "cell_type": "markdown",
   "metadata": {},
   "source": [
    "function to ```calculate the minimum, maximum, average salary for each specialization```:\\\n",
    "and function to ```calculate the minimum, maximum, average age for each specialization```:"
   ]
  },
  {
   "cell_type": "code",
   "execution_count": 19,
   "metadata": {},
   "outputs": [
    {
     "name": "stdout",
     "output_type": "stream",
     "text": [
      "                                                    min        max     average\n",
      "specialization                                                                \n",
      "Chief technical officer (CTO)                       NaN        NaN         NaN\n",
      "DevOps-инженер                                 100000.0  2664420.0   974884.00\n",
      "Programmer, developer                          300000.0   300000.0   300000.00\n",
      "System administrator                                NaN        NaN         NaN\n",
      "Tester                                              NaN        NaN         NaN\n",
      "Директор по информационным технологиям (CIO)   450000.0   450000.0   450000.00\n",
      "Программист, разработчик                       666105.0  2800000.0  1421613.75\n",
      "Руководитель группы разработки                1500000.0  1500000.0  1500000.00\n",
      "Сетевой инженер                                     NaN        NaN         NaN\n",
      "Системный администратор                        500000.0   500000.0   500000.00\n",
      "\n",
      "                                              min  max  average\n",
      "specialization                                                 \n",
      "Chief technical officer (CTO)                  32   32     32.0\n",
      "DevOps-инженер                                 24   41     36.5\n",
      "Programmer, developer                          33   33     33.0\n",
      "System administrator                           33   33     33.0\n",
      "Tester                                         37   37     37.0\n",
      "Директор по информационным технологиям (CIO)   47   47     47.0\n",
      "Программист, разработчик                       26   46     35.4\n",
      "Руководитель группы разработки                 32   32     32.0\n",
      "Сетевой инженер                                43   43     43.0\n",
      "Системный администратор                        29   29     29.0\n"
     ]
    }
   ],
   "source": [
    "grouped_by_specialization = dataframe.groupby(['specialization'])\n",
    "print(get_salary_stats(grouped_by_specialization))\n",
    "print()\n",
    "print(get_age_stats(grouped_by_specialization))"
   ]
  },
  {
   "attachments": {},
   "cell_type": "markdown",
   "metadata": {},
   "source": [
    "function to ```calculate the minimum, maximum, average salary for each citizenship```:\\\n",
    "and function to ```calculate the minimum, maximum, average age for each citizenship```:"
   ]
  },
  {
   "cell_type": "code",
   "execution_count": 20,
   "metadata": {},
   "outputs": [
    {
     "name": "stdout",
     "output_type": "stream",
     "text": [
      "                  min        max     average\n",
      "citizenship                                 \n",
      "Казахстан    450000.0  2800000.0  1391846.25\n",
      "Россия       100000.0  1000000.0   377500.00\n",
      "Украина      666105.0   666105.0   666105.00\n"
     ]
    }
   ],
   "source": [
    "grouped_by_citizenship = dataframe.groupby(['citizenship'])\n",
    "print(get_salary_stats(grouped_by_citizenship))\n",
    "print()\n",
    "print(get_age_stats(grouped_by_citizenship))"
   ]
  },
  {
   "attachments": {},
   "cell_type": "markdown",
   "metadata": {},
   "source": [
    "```ENTERING TESTING ZONE FOUR```"
   ]
  },
  {
   "attachments": {},
   "cell_type": "markdown",
   "metadata": {},
   "source": [
    "function to ```calculate the amount of males``` from each country"
   ]
  },
  {
   "cell_type": "code",
   "execution_count": 21,
   "metadata": {},
   "outputs": [],
   "source": [
    "# CODE"
   ]
  },
  {
   "attachments": {},
   "cell_type": "markdown",
   "metadata": {},
   "source": [
    "function to ```calculate the amount of females``` from each country"
   ]
  },
  {
   "cell_type": "code",
   "execution_count": 22,
   "metadata": {},
   "outputs": [],
   "source": [
    "# CODE"
   ]
  },
  {
   "attachments": {},
   "cell_type": "markdown",
   "metadata": {},
   "source": [
    "function to ```calculate the amount of CVs``` from each country"
   ]
  },
  {
   "cell_type": "code",
   "execution_count": 23,
   "metadata": {},
   "outputs": [],
   "source": [
    "# CODE"
   ]
  },
  {
   "attachments": {},
   "cell_type": "markdown",
   "metadata": {},
   "source": [
    "```ENTERING TESTING ZONE FIVE```"
   ]
  },
  {
   "cell_type": "code",
   "execution_count": 24,
   "metadata": {},
   "outputs": [],
   "source": [
    "# Create at least 5 plots of dataframes from the previous steps. \n",
    "# For example, you can plot the bar chart of the average mean of expected salary each country’s citizenship or of each sex"
   ]
  }
 ],
 "metadata": {
  "kernelspec": {
   "display_name": "Python 3.11.1 64-bit",
   "language": "python",
   "name": "python3"
  },
  "language_info": {
   "codemirror_mode": {
    "name": "ipython",
    "version": 3
   },
   "file_extension": ".py",
   "mimetype": "text/x-python",
   "name": "python",
   "nbconvert_exporter": "python",
   "pygments_lexer": "ipython3",
   "version": "3.11.1"
  },
  "orig_nbformat": 4,
  "vscode": {
   "interpreter": {
    "hash": "aee8b7b246df8f9039afb4144a1f6fd8d2ca17a180786b69acc140d282b71a49"
   }
  }
 },
 "nbformat": 4,
 "nbformat_minor": 2
}
