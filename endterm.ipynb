{
 "cells": [
  {
   "attachments": {},
   "cell_type": "markdown",
   "metadata": {},
   "source": [
    "Hello everyone!\\\n",
    "This is our notebook for our parser\n",
    "This project was done by ```Abdrakhmanov Yelnur```, ```Ananyan Karen``` and ```Aslan Jeleubay``` from ```SE-2203```\\\n",
    "GitHub Repository link: https://github.com/prenl/headhunter_parser/\n",
    "\n",
    "In the code cell below, we import all necessary packages using ```pip``` (python package index)"
   ]
  },
  {
   "cell_type": "code",
   "execution_count": null,
   "metadata": {},
   "outputs": [],
   "source": [
    "# Installing all necessary packages\n",
    "!pip3 install jupyter\n",
    "!pip3 install pandas\n",
    "!pip3 install csv\n",
    "!pip3 install jupyter\n",
    "!pip3 install requests\n",
    "!pip3 install bs4"
   ]
  },
  {
   "attachments": {},
   "cell_type": "markdown",
   "metadata": {},
   "source": [
    "Then, we start our program from inputing some our functions and libraries"
   ]
  },
  {
   "cell_type": "code",
   "execution_count": 1,
   "metadata": {},
   "outputs": [],
   "source": [
    "import csv\n",
    "import pandas\n",
    "import requests\n",
    "from bs4 import BeautifulSoup\n",
    "\n",
    "from hh_parser import find_links, parse_link\n",
    "from data_handler import parse_resumes\n",
    "from scripts import *"
   ]
  },
  {
   "attachments": {},
   "cell_type": "markdown",
   "metadata": {},
   "source": [
    "We have ```parse_resumes``` function below, that takes only one argument -> ```job_title``` \\\n",
    "Using this text, our ```find_links``` function finds the ```20``` first links that satisfy the ```job_title```\n",
    "\n",
    "Then, all the links ```find_links``` function had found we parse through our function ```parse_link```\n",
    "\n",
    "Using ```requests``` and ```bs4``` libraries, we parse each link returning dictionary of page\n",
    "\n",
    "    resume = {\n",
    "        'title': title,\n",
    "        'specialization': specialization,\n",
    "        'salary': salary,\n",
    "        'age': age,\n",
    "        'employment': employment,\n",
    "        'schedule': schedule,\n",
    "        'experience_years': experience_years,\n",
    "        'experience_months': experience_months,\n",
    "        'citizenship': citizenship,\n",
    "        'sex': sex,\n",
    "        'link': link\n",
    "    }\n",
    "\n",
    "If some information wasn't found in resume, it shows \"Unspecified\"\n",
    "\n",
    "As soon as ``parse_link`` finishes with one link, ```parse_resumes``` immediately fills the table ``.csv`` that has the same name as ```job_title```\n",
    "    \n"
   ]
  },
  {
   "cell_type": "code",
   "execution_count": 2,
   "metadata": {},
   "outputs": [],
   "source": [
    "job_title = 'DevOps C'\n",
    "number_of_resumes = 20\n",
    "# parse_resumes(job_title, number_of_resumes)"
   ]
  },
  {
   "attachments": {},
   "cell_type": "markdown",
   "metadata": {},
   "source": [
    "To output out table, firstly, we should open our ```.csv``` file and convert it to ```DataFrame``` object, using ```read_csv``` method from ```pandas```\\\n",
    "\n",
    "and after this, we output the table using ```head``` method of ```pandas.DataFrame class```"
   ]
  },
  {
   "cell_type": "code",
   "execution_count": 3,
   "metadata": {},
   "outputs": [
    {
     "data": {
      "text/html": [
       "<div>\n",
       "<style scoped>\n",
       "    .dataframe tbody tr th:only-of-type {\n",
       "        vertical-align: middle;\n",
       "    }\n",
       "\n",
       "    .dataframe tbody tr th {\n",
       "        vertical-align: top;\n",
       "    }\n",
       "\n",
       "    .dataframe thead th {\n",
       "        text-align: right;\n",
       "    }\n",
       "</style>\n",
       "<table border=\"1\" class=\"dataframe\">\n",
       "  <thead>\n",
       "    <tr style=\"text-align: right;\">\n",
       "      <th></th>\n",
       "      <th>title</th>\n",
       "      <th>specialization</th>\n",
       "      <th>salary</th>\n",
       "      <th>age</th>\n",
       "      <th>employment</th>\n",
       "      <th>schedule</th>\n",
       "      <th>experience_years</th>\n",
       "      <th>experience_months</th>\n",
       "      <th>citizenship</th>\n",
       "      <th>sex</th>\n",
       "      <th>link</th>\n",
       "    </tr>\n",
       "  </thead>\n",
       "  <tbody>\n",
       "    <tr>\n",
       "      <th>0</th>\n",
       "      <td>DevOps</td>\n",
       "      <td>DevOps engineer</td>\n",
       "      <td>NaN</td>\n",
       "      <td>33</td>\n",
       "      <td>project work, part time, full time</td>\n",
       "      <td>remote working, flexible schedule, full day, s...</td>\n",
       "      <td>10</td>\n",
       "      <td>6</td>\n",
       "      <td>Kazakhstan</td>\n",
       "      <td>Мужчина</td>\n",
       "      <td>https://hh.kz/resume/f632b0e80008abcf850039ed1...</td>\n",
       "    </tr>\n",
       "    <tr>\n",
       "      <th>1</th>\n",
       "      <td>Системный инженер (DevOps)</td>\n",
       "      <td>DevOps-инженер</td>\n",
       "      <td>NaN</td>\n",
       "      <td>39</td>\n",
       "      <td>полная занятость</td>\n",
       "      <td>удаленная работа, полный день</td>\n",
       "      <td>19</td>\n",
       "      <td>11</td>\n",
       "      <td>Казахстан</td>\n",
       "      <td>Женщина</td>\n",
       "      <td>https://hh.kz/resume/0560ab1b00039ff0a20039ed1...</td>\n",
       "    </tr>\n",
       "    <tr>\n",
       "      <th>2</th>\n",
       "      <td>DevOps-инженер</td>\n",
       "      <td>DevOps-инженер</td>\n",
       "      <td>100000.0</td>\n",
       "      <td>36</td>\n",
       "      <td>частичная занятость, полная занятость</td>\n",
       "      <td>удаленная работа, гибкий график, полный день, ...</td>\n",
       "      <td>14</td>\n",
       "      <td>5</td>\n",
       "      <td>Россия</td>\n",
       "      <td>Женщина</td>\n",
       "      <td>https://hh.kz/resume/a38ba66c000744f71f0039ed1...</td>\n",
       "    </tr>\n",
       "    <tr>\n",
       "      <th>3</th>\n",
       "      <td>DevOps/Cloud Engineer</td>\n",
       "      <td>Программист, разработчик</td>\n",
       "      <td>NaN</td>\n",
       "      <td>26</td>\n",
       "      <td>полная занятость</td>\n",
       "      <td>удаленная работа, гибкий график, полный день, ...</td>\n",
       "      <td>4</td>\n",
       "      <td>9</td>\n",
       "      <td>Казахстан</td>\n",
       "      <td>Женщина</td>\n",
       "      <td>https://hh.kz/resume/d13009aa0007ce65a70039ed1...</td>\n",
       "    </tr>\n",
       "    <tr>\n",
       "      <th>4</th>\n",
       "      <td>Python developer</td>\n",
       "      <td>Системный администратор</td>\n",
       "      <td>1000000.0</td>\n",
       "      <td>41</td>\n",
       "      <td>проектная работа, частичная занятость, полная ...</td>\n",
       "      <td>вахтовый метод, удаленная работа, гибкий графи...</td>\n",
       "      <td>21</td>\n",
       "      <td>5</td>\n",
       "      <td>Казахстан</td>\n",
       "      <td>Женщина</td>\n",
       "      <td>https://hh.kz/resume/0827db430000e72e6e0039ed1...</td>\n",
       "    </tr>\n",
       "    <tr>\n",
       "      <th>5</th>\n",
       "      <td>DevOps инженер / AWS+terraform+kubernetes / MLOps</td>\n",
       "      <td>Программист, разработчик</td>\n",
       "      <td>1332210.0</td>\n",
       "      <td>43</td>\n",
       "      <td>проектная работа, частичная занятость, полная ...</td>\n",
       "      <td>вахтовый метод, удаленная работа, гибкий графи...</td>\n",
       "      <td>16</td>\n",
       "      <td>11</td>\n",
       "      <td>Казахстан</td>\n",
       "      <td>Женщина</td>\n",
       "      <td>https://hh.kz/resume/214731fb0000865b910039ed1...</td>\n",
       "    </tr>\n",
       "    <tr>\n",
       "      <th>6</th>\n",
       "      <td>CIO/CTO/DevOps/Project Manager/системный админ...</td>\n",
       "      <td>Директор по информационным технологиям (CIO)</td>\n",
       "      <td>450000.0</td>\n",
       "      <td>47</td>\n",
       "      <td>проектная работа, частичная занятость, полная ...</td>\n",
       "      <td>удаленная работа, гибкий график, полный день, ...</td>\n",
       "      <td>19</td>\n",
       "      <td>6</td>\n",
       "      <td>Казахстан</td>\n",
       "      <td>Женщина</td>\n",
       "      <td>https://hh.kz/resume/29a38bdf0001f1aecb0039ed1...</td>\n",
       "    </tr>\n",
       "    <tr>\n",
       "      <th>7</th>\n",
       "      <td>Devops/System Administrator</td>\n",
       "      <td>Системный администратор</td>\n",
       "      <td>500000.0</td>\n",
       "      <td>29</td>\n",
       "      <td>полная занятость</td>\n",
       "      <td>удаленная работа, полный день, сменный график</td>\n",
       "      <td>7</td>\n",
       "      <td>8</td>\n",
       "      <td>Казахстан</td>\n",
       "      <td>Женщина</td>\n",
       "      <td>https://hh.kz/resume/83ea941200031fd0f50039ed1...</td>\n",
       "    </tr>\n",
       "    <tr>\n",
       "      <th>8</th>\n",
       "      <td>Архитектор 1C</td>\n",
       "      <td>Programmer, developer</td>\n",
       "      <td>300000.0</td>\n",
       "      <td>33</td>\n",
       "      <td>project work, part time, full time</td>\n",
       "      <td>remote working, flexible schedule, full day, s...</td>\n",
       "      <td>14</td>\n",
       "      <td>2</td>\n",
       "      <td>Russia</td>\n",
       "      <td>Мужчина</td>\n",
       "      <td>https://hh.kz/resume/508f94a700008efb3d0039ed1...</td>\n",
       "    </tr>\n",
       "    <tr>\n",
       "      <th>9</th>\n",
       "      <td>Системный администратор</td>\n",
       "      <td>Системный администратор</td>\n",
       "      <td>NaN</td>\n",
       "      <td>43</td>\n",
       "      <td>частичная занятость, полная занятость</td>\n",
       "      <td>удаленная работа, гибкий график, полный день, ...</td>\n",
       "      <td>26</td>\n",
       "      <td>1</td>\n",
       "      <td>Казахстан</td>\n",
       "      <td>Женщина</td>\n",
       "      <td>https://hh.kz/resume/fe5de6670000ba6e910039ed1...</td>\n",
       "    </tr>\n",
       "    <tr>\n",
       "      <th>10</th>\n",
       "      <td>Системный администратор, DevOps Junior</td>\n",
       "      <td>Системный администратор</td>\n",
       "      <td>110000.0</td>\n",
       "      <td>24</td>\n",
       "      <td>проектная работа, стажировка, частичная занято...</td>\n",
       "      <td>удаленная работа, гибкий график, полный день, ...</td>\n",
       "      <td>3</td>\n",
       "      <td>8</td>\n",
       "      <td>Россия</td>\n",
       "      <td>Женщина</td>\n",
       "      <td>https://hh.kz/resume/15620ebb00091aa6fc0039ed1...</td>\n",
       "    </tr>\n",
       "    <tr>\n",
       "      <th>11</th>\n",
       "      <td>Программист-разработчик 1C</td>\n",
       "      <td>Программист, разработчик</td>\n",
       "      <td>1500000.0</td>\n",
       "      <td>32</td>\n",
       "      <td>проектная работа, частичная занятость, полная ...</td>\n",
       "      <td>удаленная работа, гибкий график, полный день, ...</td>\n",
       "      <td>10</td>\n",
       "      <td>4</td>\n",
       "      <td>Казахстан</td>\n",
       "      <td>Женщина</td>\n",
       "      <td>https://hh.kz/resume/7f1766c2000389d4950039ed1...</td>\n",
       "    </tr>\n",
       "    <tr>\n",
       "      <th>12</th>\n",
       "      <td>DevOps Engineer / Системный администратор Linux</td>\n",
       "      <td>Системный администратор</td>\n",
       "      <td>1000000.0</td>\n",
       "      <td>38</td>\n",
       "      <td>частичная занятость, полная занятость</td>\n",
       "      <td>удаленная работа, гибкий график, полный день</td>\n",
       "      <td>17</td>\n",
       "      <td>9</td>\n",
       "      <td>Россия</td>\n",
       "      <td>Женщина</td>\n",
       "      <td>https://hh.kz/resume/86f4f61500003595390039ed1...</td>\n",
       "    </tr>\n",
       "    <tr>\n",
       "      <th>13</th>\n",
       "      <td>IT Analyst,System administrator,application su...</td>\n",
       "      <td>Программист, разработчик</td>\n",
       "      <td>888140.0</td>\n",
       "      <td>30</td>\n",
       "      <td>проектная работа, частичная занятость, полная ...</td>\n",
       "      <td>удаленная работа, гибкий график, полный день, ...</td>\n",
       "      <td>8</td>\n",
       "      <td>8</td>\n",
       "      <td>Казахстан</td>\n",
       "      <td>Женщина</td>\n",
       "      <td>https://hh.kz/resume/9c9b49c50002fdf5860039ed1...</td>\n",
       "    </tr>\n",
       "    <tr>\n",
       "      <th>14</th>\n",
       "      <td>Machine Learning, Team Lead, Senior Web Develo...</td>\n",
       "      <td>Data scientist</td>\n",
       "      <td>NaN</td>\n",
       "      <td>32</td>\n",
       "      <td>part time, project work, full time</td>\n",
       "      <td>flexible schedule, full day, shift schedule, r...</td>\n",
       "      <td>12</td>\n",
       "      <td>5</td>\n",
       "      <td>Kazakhstan</td>\n",
       "      <td>Мужчина</td>\n",
       "      <td>https://hh.kz/resume/ec1cbb1f000314ee3a0039ed1...</td>\n",
       "    </tr>\n",
       "    <tr>\n",
       "      <th>15</th>\n",
       "      <td>DevOps инженер</td>\n",
       "      <td>Системный инженер</td>\n",
       "      <td>2664420.0</td>\n",
       "      <td>41</td>\n",
       "      <td>частичная занятость, проектная работа, полная ...</td>\n",
       "      <td>гибкий график, полный день, удаленная работа</td>\n",
       "      <td>16</td>\n",
       "      <td>5</td>\n",
       "      <td>Казахстан</td>\n",
       "      <td>Женщина</td>\n",
       "      <td>https://hh.kz/resume/20d036d00000cd0b2f0039ed1...</td>\n",
       "    </tr>\n",
       "    <tr>\n",
       "      <th>16</th>\n",
       "      <td>Директор IT, Архитектор 1С, разработчик 1C, пр...</td>\n",
       "      <td>Программист, разработчик</td>\n",
       "      <td>2800000.0</td>\n",
       "      <td>46</td>\n",
       "      <td>частичная занятость, проектная работа</td>\n",
       "      <td>гибкий график, вахтовый метод, удаленная работа</td>\n",
       "      <td>29</td>\n",
       "      <td>2</td>\n",
       "      <td>Казахстан</td>\n",
       "      <td>Женщина</td>\n",
       "      <td>https://hh.kz/resume/28b1f58000008c3cc90039ed1...</td>\n",
       "    </tr>\n",
       "    <tr>\n",
       "      <th>17</th>\n",
       "      <td>Старший системный администратор</td>\n",
       "      <td>Специалист по информационной безопасности</td>\n",
       "      <td>NaN</td>\n",
       "      <td>29</td>\n",
       "      <td>стажировка, частичная занятость, проектная раб...</td>\n",
       "      <td>гибкий график, полный день, сменный график, ва...</td>\n",
       "      <td>8</td>\n",
       "      <td>2</td>\n",
       "      <td>Казахстан</td>\n",
       "      <td>Женщина</td>\n",
       "      <td>https://hh.kz/resume/70ed375800028ea18f0039ed1...</td>\n",
       "    </tr>\n",
       "    <tr>\n",
       "      <th>18</th>\n",
       "      <td>Программист PHP</td>\n",
       "      <td>Программист, разработчик</td>\n",
       "      <td>666105.0</td>\n",
       "      <td>32</td>\n",
       "      <td>стажировка, волонтерство, частичная занятость,...</td>\n",
       "      <td>гибкий график, полный день, сменный график, ва...</td>\n",
       "      <td>12</td>\n",
       "      <td>2</td>\n",
       "      <td>Украина</td>\n",
       "      <td>Женщина</td>\n",
       "      <td>https://hh.kz/resume/19173fde0009318d9c0039ed1...</td>\n",
       "    </tr>\n",
       "    <tr>\n",
       "      <th>19</th>\n",
       "      <td>IT Specialist</td>\n",
       "      <td>Technical support specialist</td>\n",
       "      <td>NaN</td>\n",
       "      <td>37</td>\n",
       "      <td>part time, full time</td>\n",
       "      <td>flexible schedule, full day, shift schedule, r...</td>\n",
       "      <td>16</td>\n",
       "      <td>7</td>\n",
       "      <td>Kazakhstan</td>\n",
       "      <td>Мужчина</td>\n",
       "      <td>https://hh.kz/resume/760b883d00011e81310039ed1...</td>\n",
       "    </tr>\n",
       "  </tbody>\n",
       "</table>\n",
       "</div>"
      ],
      "text/plain": [
       "                                                title  \\\n",
       "0                                              DevOps   \n",
       "1                          Системный инженер (DevOps)   \n",
       "2                                      DevOps-инженер   \n",
       "3                               DevOps/Cloud Engineer   \n",
       "4                                    Python developer   \n",
       "5   DevOps инженер / AWS+terraform+kubernetes / MLOps   \n",
       "6   CIO/CTO/DevOps/Project Manager/системный админ...   \n",
       "7                         Devops/System Administrator   \n",
       "8                                       Архитектор 1C   \n",
       "9                             Системный администратор   \n",
       "10             Системный администратор, DevOps Junior   \n",
       "11                         Программист-разработчик 1C   \n",
       "12    DevOps Engineer / Системный администратор Linux   \n",
       "13  IT Analyst,System administrator,application su...   \n",
       "14  Machine Learning, Team Lead, Senior Web Develo...   \n",
       "15                                     DevOps инженер   \n",
       "16  Директор IT, Архитектор 1С, разработчик 1C, пр...   \n",
       "17                    Старший системный администратор   \n",
       "18                                    Программист PHP   \n",
       "19                                      IT Specialist   \n",
       "\n",
       "                                  specialization     salary  age  \\\n",
       "0                                DevOps engineer        NaN   33   \n",
       "1                                 DevOps-инженер        NaN   39   \n",
       "2                                 DevOps-инженер   100000.0   36   \n",
       "3                       Программист, разработчик        NaN   26   \n",
       "4                        Системный администратор  1000000.0   41   \n",
       "5                       Программист, разработчик  1332210.0   43   \n",
       "6   Директор по информационным технологиям (CIO)   450000.0   47   \n",
       "7                        Системный администратор   500000.0   29   \n",
       "8                          Programmer, developer   300000.0   33   \n",
       "9                        Системный администратор        NaN   43   \n",
       "10                       Системный администратор   110000.0   24   \n",
       "11                      Программист, разработчик  1500000.0   32   \n",
       "12                       Системный администратор  1000000.0   38   \n",
       "13                      Программист, разработчик   888140.0   30   \n",
       "14                                Data scientist        NaN   32   \n",
       "15                             Системный инженер  2664420.0   41   \n",
       "16                      Программист, разработчик  2800000.0   46   \n",
       "17     Специалист по информационной безопасности        NaN   29   \n",
       "18                      Программист, разработчик   666105.0   32   \n",
       "19                  Technical support specialist        NaN   37   \n",
       "\n",
       "                                           employment  \\\n",
       "0                  project work, part time, full time   \n",
       "1                                    полная занятость   \n",
       "2               частичная занятость, полная занятость   \n",
       "3                                    полная занятость   \n",
       "4   проектная работа, частичная занятость, полная ...   \n",
       "5   проектная работа, частичная занятость, полная ...   \n",
       "6   проектная работа, частичная занятость, полная ...   \n",
       "7                                    полная занятость   \n",
       "8                  project work, part time, full time   \n",
       "9               частичная занятость, полная занятость   \n",
       "10  проектная работа, стажировка, частичная занято...   \n",
       "11  проектная работа, частичная занятость, полная ...   \n",
       "12              частичная занятость, полная занятость   \n",
       "13  проектная работа, частичная занятость, полная ...   \n",
       "14                 part time, project work, full time   \n",
       "15  частичная занятость, проектная работа, полная ...   \n",
       "16              частичная занятость, проектная работа   \n",
       "17  стажировка, частичная занятость, проектная раб...   \n",
       "18  стажировка, волонтерство, частичная занятость,...   \n",
       "19                               part time, full time   \n",
       "\n",
       "                                             schedule  experience_years  \\\n",
       "0   remote working, flexible schedule, full day, s...                10   \n",
       "1                       удаленная работа, полный день                19   \n",
       "2   удаленная работа, гибкий график, полный день, ...                14   \n",
       "3   удаленная работа, гибкий график, полный день, ...                 4   \n",
       "4   вахтовый метод, удаленная работа, гибкий графи...                21   \n",
       "5   вахтовый метод, удаленная работа, гибкий графи...                16   \n",
       "6   удаленная работа, гибкий график, полный день, ...                19   \n",
       "7       удаленная работа, полный день, сменный график                 7   \n",
       "8   remote working, flexible schedule, full day, s...                14   \n",
       "9   удаленная работа, гибкий график, полный день, ...                26   \n",
       "10  удаленная работа, гибкий график, полный день, ...                 3   \n",
       "11  удаленная работа, гибкий график, полный день, ...                10   \n",
       "12       удаленная работа, гибкий график, полный день                17   \n",
       "13  удаленная работа, гибкий график, полный день, ...                 8   \n",
       "14  flexible schedule, full day, shift schedule, r...                12   \n",
       "15       гибкий график, полный день, удаленная работа                16   \n",
       "16    гибкий график, вахтовый метод, удаленная работа                29   \n",
       "17  гибкий график, полный день, сменный график, ва...                 8   \n",
       "18  гибкий график, полный день, сменный график, ва...                12   \n",
       "19  flexible schedule, full day, shift schedule, r...                16   \n",
       "\n",
       "    experience_months citizenship      sex  \\\n",
       "0                   6  Kazakhstan  Мужчина   \n",
       "1                  11   Казахстан  Женщина   \n",
       "2                   5      Россия  Женщина   \n",
       "3                   9   Казахстан  Женщина   \n",
       "4                   5   Казахстан  Женщина   \n",
       "5                  11   Казахстан  Женщина   \n",
       "6                   6   Казахстан  Женщина   \n",
       "7                   8   Казахстан  Женщина   \n",
       "8                   2      Russia  Мужчина   \n",
       "9                   1   Казахстан  Женщина   \n",
       "10                  8      Россия  Женщина   \n",
       "11                  4   Казахстан  Женщина   \n",
       "12                  9      Россия  Женщина   \n",
       "13                  8   Казахстан  Женщина   \n",
       "14                  5  Kazakhstan  Мужчина   \n",
       "15                  5   Казахстан  Женщина   \n",
       "16                  2   Казахстан  Женщина   \n",
       "17                  2   Казахстан  Женщина   \n",
       "18                  2     Украина  Женщина   \n",
       "19                  7  Kazakhstan  Мужчина   \n",
       "\n",
       "                                                 link  \n",
       "0   https://hh.kz/resume/f632b0e80008abcf850039ed1...  \n",
       "1   https://hh.kz/resume/0560ab1b00039ff0a20039ed1...  \n",
       "2   https://hh.kz/resume/a38ba66c000744f71f0039ed1...  \n",
       "3   https://hh.kz/resume/d13009aa0007ce65a70039ed1...  \n",
       "4   https://hh.kz/resume/0827db430000e72e6e0039ed1...  \n",
       "5   https://hh.kz/resume/214731fb0000865b910039ed1...  \n",
       "6   https://hh.kz/resume/29a38bdf0001f1aecb0039ed1...  \n",
       "7   https://hh.kz/resume/83ea941200031fd0f50039ed1...  \n",
       "8   https://hh.kz/resume/508f94a700008efb3d0039ed1...  \n",
       "9   https://hh.kz/resume/fe5de6670000ba6e910039ed1...  \n",
       "10  https://hh.kz/resume/15620ebb00091aa6fc0039ed1...  \n",
       "11  https://hh.kz/resume/7f1766c2000389d4950039ed1...  \n",
       "12  https://hh.kz/resume/86f4f61500003595390039ed1...  \n",
       "13  https://hh.kz/resume/9c9b49c50002fdf5860039ed1...  \n",
       "14  https://hh.kz/resume/ec1cbb1f000314ee3a0039ed1...  \n",
       "15  https://hh.kz/resume/20d036d00000cd0b2f0039ed1...  \n",
       "16  https://hh.kz/resume/28b1f58000008c3cc90039ed1...  \n",
       "17  https://hh.kz/resume/70ed375800028ea18f0039ed1...  \n",
       "18  https://hh.kz/resume/19173fde0009318d9c0039ed1...  \n",
       "19  https://hh.kz/resume/760b883d00011e81310039ed1...  "
      ]
     },
     "execution_count": 3,
     "metadata": {},
     "output_type": "execute_result"
    }
   ],
   "source": [
    "dataframe: pandas.DataFrame = pandas.read_csv(job_title + '.csv')\n",
    "dataframe.head(n=number_of_resumes)"
   ]
  },
  {
   "attachments": {},
   "cell_type": "markdown",
   "metadata": {},
   "source": [
    "```ENTERING TESTING ZONE ONE```"
   ]
  },
  {
   "attachments": {},
   "cell_type": "markdown",
   "metadata": {},
   "source": [
    "First test will be test of ```sorting script```\\\n",
    "\n",
    "here's the function to ```sort by age``` (ascending):"
   ]
  },
  {
   "cell_type": "code",
   "execution_count": null,
   "metadata": {},
   "outputs": [],
   "source": [
    "sorted_by_age_dataframe = sort(dataframe, 'age', ascending=False)\n",
    "sorted_by_age_dataframe.head(n=number_of_resumes)"
   ]
  },
  {
   "attachments": {},
   "cell_type": "markdown",
   "metadata": {},
   "source": [
    "function to ```sort by salary``` (ascending)"
   ]
  },
  {
   "cell_type": "code",
   "execution_count": null,
   "metadata": {},
   "outputs": [],
   "source": [
    "sorted_by_salary_dataframe = sort(dataframe, 'salary', ascending=True)\n",
    "sorted_by_salary_dataframe.head(n=number_of_resumes)"
   ]
  },
  {
   "attachments": {},
   "cell_type": "markdown",
   "metadata": {},
   "source": [
    "function to ```sort by experience``` (descending)"
   ]
  },
  {
   "cell_type": "code",
   "execution_count": null,
   "metadata": {},
   "outputs": [],
   "source": [
    "sorted_by_experience_dataframe = sort(dataframe, 'experience_years', ascending=False)\n",
    "sorted_by_experience_dataframe.head(n=number_of_resumes)"
   ]
  },
  {
   "attachments": {},
   "cell_type": "markdown",
   "metadata": {},
   "source": [
    "function to ```sort by title``` (ascending)"
   ]
  },
  {
   "cell_type": "code",
   "execution_count": null,
   "metadata": {},
   "outputs": [],
   "source": [
    "sorted_by_experience_dataframe = sort(dataframe, 'title', ascending=True)\n",
    "sorted_by_experience_dataframe.head(n=number_of_resumes)"
   ]
  },
  {
   "attachments": {},
   "cell_type": "markdown",
   "metadata": {},
   "source": [
    "```ENTERING TESTING ZONE TWO```"
   ]
  },
  {
   "attachments": {},
   "cell_type": "markdown",
   "metadata": {},
   "source": [
    "function to ```calculate the minimum salary```:"
   ]
  },
  {
   "cell_type": "code",
   "execution_count": null,
   "metadata": {},
   "outputs": [],
   "source": [
    "minimum_salary_dataframe = get_min(dataframe, 'salary')\n",
    "print(minimum_salary_dataframe)"
   ]
  },
  {
   "attachments": {},
   "cell_type": "markdown",
   "metadata": {},
   "source": [
    "function to ```calculate the maximum salary```:"
   ]
  },
  {
   "cell_type": "code",
   "execution_count": null,
   "metadata": {},
   "outputs": [],
   "source": [
    "maximum_salary_dataframe = get_max(dataframe, 'salary')\n",
    "print(maximum_salary_dataframe)"
   ]
  },
  {
   "attachments": {},
   "cell_type": "markdown",
   "metadata": {},
   "source": [
    "function to ```calculate the average salary```:"
   ]
  },
  {
   "cell_type": "code",
   "execution_count": 4,
   "metadata": {},
   "outputs": [
    {
     "name": "stdout",
     "output_type": "stream",
     "text": [
      "Average salary for \"DevOps C\" is: 1023913 KZT\n"
     ]
    }
   ],
   "source": [
    "average_salary: str = get_average(dataframe, 'salary')\n",
    "print(\"Average salary for \\\"\" + job_title + \"\\\" is: \" + average_salary)"
   ]
  },
  {
   "attachments": {},
   "cell_type": "markdown",
   "metadata": {},
   "source": [
    "```ENTERING TESTING ZONE THREE```"
   ]
  },
  {
   "attachments": {},
   "cell_type": "markdown",
   "metadata": {},
   "source": [
    "function to ```calculate the minimum for each sex, specialization and citizenship```:"
   ]
  },
  {
   "cell_type": "code",
   "execution_count": null,
   "metadata": {},
   "outputs": [],
   "source": [
    "columns = ['sex', 'specialization', 'citizenship']\n",
    "for column in columns:\n",
    "    pass\n",
    "# Karen this func is for you"
   ]
  },
  {
   "attachments": {},
   "cell_type": "markdown",
   "metadata": {},
   "source": [
    "function to ```calculate the maximum for each sex, specialization and citizenship```:"
   ]
  },
  {
   "cell_type": "code",
   "execution_count": null,
   "metadata": {},
   "outputs": [],
   "source": [
    "columns = ['sex', 'specialization', 'citizenship']\n",
    "for column in columns:\n",
    "    pass\n",
    "# Karen this func is for you"
   ]
  },
  {
   "attachments": {},
   "cell_type": "markdown",
   "metadata": {},
   "source": [
    "function to ```calculate the average for each sex, specialization and citizenship```:"
   ]
  },
  {
   "cell_type": "code",
   "execution_count": null,
   "metadata": {},
   "outputs": [],
   "source": [
    "columns = ['sex', 'specialization', 'citizenship']\n",
    "for column in columns:\n",
    "    pass\n",
    "# Karen this func is for you"
   ]
  },
  {
   "attachments": {},
   "cell_type": "markdown",
   "metadata": {},
   "source": [
    "```ENTERING TESTING ZONE FOUR```"
   ]
  },
  {
   "attachments": {},
   "cell_type": "markdown",
   "metadata": {},
   "source": [
    "function to ```calculate the amount of males``` from each country"
   ]
  },
  {
   "cell_type": "code",
   "execution_count": null,
   "metadata": {},
   "outputs": [],
   "source": [
    "# CODE"
   ]
  },
  {
   "attachments": {},
   "cell_type": "markdown",
   "metadata": {},
   "source": [
    "function to ```calculate the amount of females``` from each country"
   ]
  },
  {
   "cell_type": "code",
   "execution_count": null,
   "metadata": {},
   "outputs": [],
   "source": [
    "# CODE"
   ]
  },
  {
   "attachments": {},
   "cell_type": "markdown",
   "metadata": {},
   "source": [
    "function to ```calculate the amount of CVs``` from each country"
   ]
  },
  {
   "cell_type": "code",
   "execution_count": null,
   "metadata": {},
   "outputs": [],
   "source": [
    "# CODE"
   ]
  },
  {
   "attachments": {},
   "cell_type": "markdown",
   "metadata": {},
   "source": [
    "```ENTERING TESTING ZONE FIVE```"
   ]
  },
  {
   "cell_type": "code",
   "execution_count": null,
   "metadata": {},
   "outputs": [],
   "source": [
    "# Create at least 5 plots of dataframes from the previous steps. \n",
    "# For example, you can plot the bar chart of the average mean of expected salary each country’s citizenship or of each sex"
   ]
  }
 ],
 "metadata": {
  "kernelspec": {
   "display_name": "Python 3",
   "language": "python",
   "name": "python3"
  },
  "language_info": {
   "codemirror_mode": {
    "name": "ipython",
    "version": 3
   },
   "file_extension": ".py",
   "mimetype": "text/x-python",
   "name": "python",
   "nbconvert_exporter": "python",
   "pygments_lexer": "ipython3",
   "version": "3.11.0"
  },
  "orig_nbformat": 4,
  "vscode": {
   "interpreter": {
    "hash": "79b067b2fa0e4ffe3d6912ca6a85a25e3eecaa9380cfa121a9114d7885261d91"
   }
  }
 },
 "nbformat": 4,
 "nbformat_minor": 2
}
